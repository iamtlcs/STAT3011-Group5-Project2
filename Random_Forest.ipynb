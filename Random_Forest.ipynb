{
 "cells": [
  {
   "attachments": {},
   "cell_type": "markdown",
   "metadata": {},
   "source": [
    "# Random Forest Simulation"
   ]
  },
  {
   "cell_type": "code",
   "execution_count": 13,
   "metadata": {},
   "outputs": [],
   "source": [
    "import numpy as np # linear algebra\n",
    "import pandas as pd # data processing, CSV file I/O (e.g. pd.read_csv)\n",
    "import sys\n",
    "from matplotlib import pyplot as plt\n",
    "\n",
    "\n",
    "# Get the ranking Data\n",
    "rankings = pd.read_csv(\"https://raw.githubusercontent.com/rajeevratan84/data-analyst-bootcamp/master/fifa_ranking.csv\")\n",
    "rankings = rankings.loc[:,['rank', 'country_full', 'country_abrv', 'cur_year_avg_weighted', 'rank_date', \n",
    "                           'two_year_ago_weighted', 'three_year_ago_weighted']]\n",
    "\n",
    "# Fix some country names\n",
    "rankings = rankings.replace({\"IR Iran\": \"Iran\"})\n",
    "# Get weighted points by summing cur_year_avg_weighted + two_year_ago_weighted + three_year_ago_weighted\n",
    "rankings['weighted_points'] =  rankings['cur_year_avg_weighted'] + rankings['two_year_ago_weighted'] + rankings['three_year_ago_weighted']\n",
    "rankings['rank_date'] = pd.to_datetime(rankings['rank_date']) # change to pandas datetime format\n",
    "\n",
    "# Get the match Data\n",
    "matches = pd.read_csv(\"https://raw.githubusercontent.com/rajeevratan84/data-analyst-bootcamp/master/results.csv\")\n",
    "# Fix some country names\n",
    "matches =  matches.replace({'Germany DR': 'Germany', 'China': 'China PR'})\n",
    "matches['date'] = pd.to_datetime(matches['date'])\n",
    "\n",
    "# Get the world cup fixture data\n",
    "world_cup = pd.read_csv(\"https://raw.githubusercontent.com/rajeevratan84/data-analyst-bootcamp/master/WorldCup2018Dataset.csv\")\n",
    "\n",
    "# extract relavent columns\n",
    "world_cup = world_cup.loc[:, ['Team', 'Group', 'First match \\nagainst', 'Second match\\n against', 'Third match\\n against']]\n",
    "\n",
    "# Drop NAs\n",
    "world_cup = world_cup.dropna(how='all')\n",
    "\n",
    "# Fix some country names\n",
    "world_cup = world_cup.replace({\"IRAN\": \"Iran\", \n",
    "                               \"Costarica\": \"Costa Rica\", \n",
    "                               \"Porugal\": \"Portugal\", \n",
    "                               \"Columbia\": \"Colombia\", \n",
    "                               \"Korea\" : \"Korea Republic\"})\n",
    "# set index to team \n",
    "world_cup = world_cup.set_index('Team')"
   ]
  },
  {
   "cell_type": "code",
   "execution_count": 4,
   "metadata": {},
   "outputs": [],
   "source": [
    "from sklearn.ensemble import RandomForestClassifier\n",
    "from sklearn.model_selection import train_test_split\n",
    "from sklearn.metrics import accuracy_score\n",
    "\n",
    "# Create a team ranking dictionary\n",
    "def get_team_ranking_data(team, date, ranking_data):\n",
    "    if date is None:\n",
    "        team_data = ranking_data.loc[ranking_data['country_full'] == team]\n",
    "    else:\n",
    "        team_data = ranking_data.loc[(ranking_data['country_full'] == team) & (ranking_data['rank_date'] <= date)]\n",
    "    \n",
    "    if len(team_data) > 0:\n",
    "        team_data = team_data.loc[team_data['rank_date'].idxmax()]\n",
    "        return {'rank': team_data['rank'], 'weighted_points': team_data['weighted_points']}\n",
    "    return None\n",
    "\n",
    "# Prepare the dataset\n",
    "def get_match_features(match, ranking_data):\n",
    "    home_team = get_team_ranking_data(match['home_team'], match.get('date', None), ranking_data)\n",
    "    away_team = get_team_ranking_data(match['away_team'], match.get('date', None), ranking_data)\n",
    "    \n",
    "    if home_team is None or away_team is None:\n",
    "        return None\n",
    "    \n",
    "    features = [home_team['rank'], home_team['weighted_points'],\n",
    "                away_team['rank'], away_team['weighted_points']]\n",
    "    return features"
   ]
  },
  {
   "cell_type": "code",
   "execution_count": null,
   "metadata": {},
   "outputs": [
    {
     "name": "stdout",
     "output_type": "stream",
     "text": [
      "Number of samples: 34261\n"
     ]
    }
   ],
   "source": [
    "# Create a dictionary to store team rankings\n",
    "team_rankings = {}\n",
    "\n",
    "# Get the latest ranking data for each team\n",
    "for index, row in rankings.iterrows():\n",
    "    country = row['country_full']\n",
    "    if country not in team_rankings or team_rankings[country]['rank_date'] < row['rank_date']:\n",
    "        team_rankings[country] = {\n",
    "            'rank': row['rank'],\n",
    "            'weighted_points': row['weighted_points'],\n",
    "            'rank_date': row['rank_date']\n",
    "        }\n",
    "\n",
    "# Modify get_match_features to use team_rankings\n",
    "def get_match_features(match, ranking_data):\n",
    "    home_team = team_rankings.get(match['home_team'], None)\n",
    "    away_team = team_rankings.get(match['away_team'], None)\n",
    "    \n",
    "    if home_team is None or away_team is None:\n",
    "        return None\n",
    "    \n",
    "    features = [home_team['rank'], home_team['weighted_points'],\n",
    "                away_team['rank'], away_team['weighted_points']]\n",
    "    return features\n",
    "\n",
    "# Get the features and labels for training\n",
    "X = []\n",
    "y = []\n",
    "for index, match in matches.iterrows():\n",
    "    if match['home_team'] in rankings['country_full'].values and match['away_team'] in rankings['country_full'].values:\n",
    "        features = get_match_features(match, rankings)\n",
    "        if features is not None:\n",
    "            X.append(features)\n",
    "            y.append(1 if match['home_score'] > match['away_score'] else 0)\n",
    "\n",
    "print(f\"Number of samples: {len(X)}\")\n"
   ]
  },
  {
   "cell_type": "code",
   "execution_count": null,
   "metadata": {},
   "outputs": [
    {
     "name": "stdout",
     "output_type": "stream",
     "text": [
      "Accuracy: 0.6459944549832191\n"
     ]
    }
   ],
   "source": [
    "# Train-test split\n",
    "X_train, X_test, y_train, y_test = train_test_split(X, y, test_size=0.2, random_state=42)\n",
    "\n",
    "# Train the Random Forest classifier\n",
    "clf = RandomForestClassifier(n_estimators=100, random_state=42)\n",
    "clf.fit(X_train, y_train)\n",
    "\n",
    "# Test the classifier\n",
    "y_pred = clf.predict(X_test)\n",
    "print(\"Accuracy:\", accuracy_score(y_test, y_pred))\n",
    "\n"
   ]
  },
  {
   "cell_type": "code",
   "execution_count": null,
   "metadata": {},
   "outputs": [],
   "source": [
    "# Modify the predict_winner function\n",
    "def predict_winner(team1, team2, ranking_data, classifier):\n",
    "    features = get_match_features({'home_team': team1, 'away_team': team2}, ranking_data)\n",
    "    prediction = classifier.predict([features])\n",
    "    return team1 if prediction == 1 else team2\n",
    "\n"
   ]
  },
  {
   "cell_type": "code",
   "execution_count": null,
   "metadata": {},
   "outputs": [],
   "source": [
    "# Predict the group stage winners\n",
    "world_cup_rankings = rankings.loc[rankings['rank_date'] == rankings['rank_date'].max(), :]\n",
    "group_winners = []\n",
    "\n",
    "for group, teams in world_cup.groupby('Group'):\n",
    "    group_teams = [world_cup_rankings.loc[world_cup_rankings['country_full'] == team, 'country_full'].values[0] for team in teams.index]\n",
    "    winner = group_teams[0]\n",
    "    \n",
    "    for i, team1 in enumerate(group_teams):\n",
    "        for j, team2 in enumerate(group_teams[i+1:]):\n",
    "            winner = predict_winner(team1, team2, world_cup_rankings, clf)\n",
    "    \n",
    "    group_winners.append(winner)\n"
   ]
  },
  {
   "cell_type": "code",
   "execution_count": null,
   "metadata": {},
   "outputs": [
    {
     "name": "stdout",
     "output_type": "stream",
     "text": [
      "Round of 16 winners:\n",
      "Uruguay vs Morocco: Morocco\n",
      "Morocco vs Denmark: Denmark\n",
      "Denmark vs Croatia: Croatia\n",
      "Croatia vs Serbia: Croatia\n",
      "Serbia vs Sweden: Serbia\n",
      "Sweden vs England: England\n",
      "England vs Japan: Japan\n",
      "Quarterfinal winners:\n",
      "Morocco vs Denmark: Denmark\n",
      "Denmark vs Croatia: Croatia\n",
      "Croatia vs Croatia: Croatia\n",
      "Croatia vs Serbia: Croatia\n",
      "Serbia vs England: England\n",
      "England vs Japan: Japan\n",
      "Semifinal winners:\n",
      "Denmark vs Croatia: Croatia\n",
      "Croatia vs Croatia: Croatia\n",
      "Croatia vs Croatia: Croatia\n",
      "Croatia vs England: England\n",
      "England vs Japan: Japan\n",
      "Final winners:\n",
      "Croatia vs Croatia: Croatia\n",
      "Croatia vs Croatia: Croatia\n",
      "Croatia vs England: England\n",
      "England vs Japan: Japan\n"
     ]
    }
   ],
   "source": [
    "# Predict the knockout stage winners\n",
    "knockout_rounds = ['Round of 16', 'Quarterfinal', 'Semifinal', 'Final']\n",
    "round_winners = group_winners\n",
    "\n",
    "for knockout_round in knockout_rounds:\n",
    "    print(f\"{knockout_round} winners:\")\n",
    "    new_round_winners = []\n",
    "    \n",
    "    for i, team1 in enumerate(round_winners):\n",
    "        for j, team2 in enumerate(round_winners[i+1:]):\n",
    "            winner = predict_winner(team1, team2, world_cup_rankings, clf)\n",
    "            new_round_winners.append(winner)\n",
    "            print(f\"{team1} vs {team2}: {winner}\")\n",
    "            break\n",
    "            \n",
    "    round_winners = new_round_winners\n"
   ]
  },
  {
   "attachments": {},
   "cell_type": "markdown",
   "metadata": {},
   "source": [
    "## Implementing Time-Based Split"
   ]
  },
  {
   "cell_type": "code",
   "execution_count": 8,
   "metadata": {},
   "outputs": [],
   "source": [
    "# Fixing the SSL error\n",
    "import ssl\n",
    "ssl._create_default_https_context = ssl._create_unverified_context"
   ]
  },
  {
   "cell_type": "code",
   "execution_count": 9,
   "metadata": {},
   "outputs": [],
   "source": [
    "# Get the match Data\n",
    "matches = pd.read_csv(\"https://raw.githubusercontent.com/rajeevratan84/data-analyst-bootcamp/master/results.csv\")"
   ]
  },
  {
   "cell_type": "code",
   "execution_count": 10,
   "metadata": {},
   "outputs": [],
   "source": [
    "# Fix some country names\n",
    "matches =  matches.replace({'Germany DR': 'Germany', 'China': 'China PR'})\n",
    "matches['date'] = pd.to_datetime(matches['date'])\n",
    "matches = matches.sort_values(by='date')"
   ]
  },
  {
   "cell_type": "code",
   "execution_count": 11,
   "metadata": {},
   "outputs": [],
   "source": [
    "# Option 1: Split based on a specific date\n",
    "split_date = pd.to_datetime('2014-01-01')\n",
    "train_matches = matches[matches['date'] < split_date]\n",
    "test_matches = matches[matches['date'] >= split_date]"
   ]
  },
  {
   "cell_type": "code",
   "execution_count": 14,
   "metadata": {},
   "outputs": [],
   "source": [
    "X_train, y_train = [], []\n",
    "for index, match in train_matches.iterrows():\n",
    "    if match['home_team'] in rankings['country_full'].values and match['away_team'] in rankings['country_full'].values:\n",
    "        features = get_match_features(match, rankings)\n",
    "        if features is not None:\n",
    "            X_train.append(features)\n",
    "            y_train.append(1 if match['home_score'] > match['away_score'] else 0)\n",
    "\n",
    "X_test, y_test = [], []\n",
    "for index, match in test_matches.iterrows():\n",
    "    if match['home_team'] in rankings['country_full'].values and match['away_team'] in rankings['country_full'].values:\n",
    "        features = get_match_features(match, rankings)\n",
    "        if features is not None:\n",
    "            X_test.append(features)\n",
    "            y_test.append(1 if match['home_score'] > match['away_score'] else 0)\n"
   ]
  },
  {
   "cell_type": "code",
   "execution_count": 15,
   "metadata": {},
   "outputs": [
    {
     "name": "stdout",
     "output_type": "stream",
     "text": [
      "Accuracy: 0.6257467144563919\n"
     ]
    }
   ],
   "source": [
    "clf = RandomForestClassifier(n_estimators=100, random_state=42)\n",
    "clf.fit(X_train, y_train)\n",
    "\n",
    "y_pred = clf.predict(X_test)\n",
    "print(\"Accuracy:\", accuracy_score(y_test, y_pred))"
   ]
  },
  {
   "cell_type": "code",
   "execution_count": 16,
   "metadata": {},
   "outputs": [
    {
     "data": {
      "image/png": "[encoded data removed]",
      "text/plain": [
       "<Figure size 1000x500 with 1 Axes>"
      ]
     },
     "metadata": {},
     "output_type": "display_data"
    }
   ],
   "source": [
    "import matplotlib.pyplot as plt\n",
    "\n",
    "knockout_stages = ['round_of_16', 'quarterfinal', 'semifinal', 'final']\n",
    "\n",
    "# Predict the knockout stage winners\n",
    "knockout_results = []\n",
    "\n",
    "for stage in knockout_stages:\n",
    "    stage_results = []\n",
    "    matches = world_cup.loc[world_cup['Group'] == stage]\n",
    "    for index, match in matches.iterrows():\n",
    "        team1, team2 = match['Team'], match['First match \\nagainst']\n",
    "        winner = predict_winner(team1, team2, rankings, clf)\n",
    "        stage_results.append((team1, team2, winner))\n",
    "    knockout_results.append(stage_results)\n",
    "\n",
    "\n",
    "def plot_bracket(knockout_results):\n",
    "    levels = len(knockout_results)\n",
    "    fig, ax = plt.subplots(figsize=(10, 5))\n",
    "    \n",
    "    for level, matches in enumerate(knockout_results, start=1):\n",
    "        for idx, match in enumerate(matches):\n",
    "            y1 = (2 ** (levels - level)) * (idx * 2)\n",
    "            y2 = y1 + (2 ** (levels - level - 1))\n",
    "            \n",
    "            ax.annotate(match[0], xy=(level - 1, y1), xycoords='data', ha='right', va='center')\n",
    "            ax.annotate(match[1], xy=(level - 1, y2), xycoords='data', ha='right', va='center')\n",
    "            \n",
    "            winner = match[2]\n",
    "            if winner == match[0]:\n",
    "                winner_y = y1\n",
    "            else:\n",
    "                winner_y = y2\n",
    "                \n",
    "            ax.annotate(winner, xy=(level, winner_y), xycoords='data', ha='left', va='center')\n",
    "            ax.plot([level - 1, level], [y1, winner_y], 'k-', lw=1.5)\n",
    "            ax.plot([level - 1, level], [y2, winner_y], 'k-', lw=1.5)\n",
    "    \n",
    "    ax.set_ylim(-1, 2 ** levels)\n",
    "    ax.set_xlim(-1, levels)\n",
    "    ax.axis('off')\n",
    "    plt.title(\"2018 World Cup Knockout Stage Predictions\")\n",
    "    plt.show()\n",
    "\n",
    "# Call the plot_bracket function with the knockout_results\n",
    "plot_bracket(knockout_results)\n"
   ]
  }
 ],
 "metadata": {
  "kernelspec": {
   "display_name": ".venv",
   "language": "python",
   "name": "python3"
  },
  "language_info": {
   "codemirror_mode": {
    "name": "ipython",
    "version": 3
   },
   "file_extension": ".py",
   "mimetype": "text/x-python",
   "name": "python",
   "nbconvert_exporter": "python",
   "pygments_lexer": "ipython3",
   "version": "3.9.4"
  },
  "orig_nbformat": 4
 },
 "nbformat": 4,
 "nbformat_minor": 2
}
